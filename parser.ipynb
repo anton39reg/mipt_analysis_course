{
 "cells": [
  {
   "cell_type": "code",
   "execution_count": 1,
   "metadata": {},
   "outputs": [],
   "source": [
    "import urllib.request\n",
    "from bs4 import BeautifulSoup\n",
    "from imdb import IMDb"
   ]
  },
  {
   "cell_type": "code",
   "execution_count": 57,
   "metadata": {},
   "outputs": [],
   "source": [
    "def get_film_info(url):\n",
    "    result = {}\n",
    "    s = requests.Session() \n",
    "    s.headers.update({\n",
    "        'User-Agent': 'Mozilla/5.0 (X11; Linux x86_64) AppleWebKit/537.36 (KHTML, like Gecko) Chrome/81.0.4044.138 Safari/537.36',\n",
    "        'Cookie': 'profile_button=votes; fuid01=5b54ad0b691302bf.4-UihjJRc4aQbk37oRHyoitU9VI8iVEYjFFph0YWe9k6E2f27MuaWgwoZBpdjis-8JfYMTvmtb1sBqy0KE5_V8ldz5EJ5TUWt83ZCfYb_oVQriOZRkyW0vgXzaoyzENN; yandexuid=4466775541531493233; _ym_uid=1532934907829296506; mda=0; my_perpages=%5B%5D; lfiltr=all; mda_exp_enabled=1; _ym_uid=1532934907829296506; _ym_d=1565447706; yuidss=4466775541531493233; _ym_uid=1532934907829296506; mustsee_sort_v5=01.10.200.21.31.41.121.131.51.61.71.81.91.101.111; yandex_login=anton39reg; _ga=GA1.2.1909329953.1579247919; mykp_button=movies; gdpr=0; i=uj6c2Pvv4AZabj/Qus8TjMDlCGoQuRjm1F8s45Q0gsmhFADqBM8VR/tJJbfjzyCSlU4LHbJ/Bwb1HUJLfz8FSj0aO28=; mobile=no; yandex_ugc_rating_status=no; yandex_ugc_rating_status.sig=pw4cVz6AAY2ipArQXugmwejk7uw; _ym_isad=2; yp=1584169752.oyu.4466775541531493233#1589446888.yu.4466775541531493233; ymex=1591952488.oyu.4466775541531493233; tc=6627; user-geo-region-id=20149; user-geo-country-id=2; desktop_session_key=512879df38b5c2d8bf417d831a5f21f15e48e3d6ee23080aeed3e3b6d1d58baae55b61e46a073bcf691132251974b0b7fec96b74138759bd4ff4f127d6dd4d61f07a96de93b550f372fe8b419e6523c9d69db796593487dbc00957b912e75a72; desktop_session_key.sig=o7JbFVnEH48j9-NMeIb414TJRMQ; sso_status=sso.passport.yandex.ru:synchronized; PHPSESSID=aed516po58k52eei3ri9rl3et6; yandex_gid=20149; uid=4856738; _csrf_csrf_token=pcghlTrunFIrU4-P5XYBe7ACGHjqID7RJmHks_m8tG8; ya_sess_id=3:1589390516.5.0.1549309909567:fQKvXQ:83.1|564432018.26956068.2.1:100597827.2:26956068|30:189515.969247.Az0kYJIHECu7b-8d21jByhmF_zg; ys=udn.cDphbnRvbjM5cmVn#c_chck.1527447961; mda2_beacon=1589390516417; _ym_visorc_22663942=b; _ym_visorc_56177992=b; _ym_visorc_52332406=b; _ym_visorc_237742=w; _ym_visorc_10630330=b; user_country=ru; _ym_visorc_26812653=b; _ym_visorc_53100=w; _ym_d=1589398989; _ym_wasSynced=%7B%22time%22%3A1589399058796%2C%22params%22%3A%7B%22eu%22%3A0%7D%2C%22bkParams%22%3A%7B%7D%7D; _ym_visorc_53867512=b; _ym_visorc_54699724=b; _ym_visorc_48924740=b; _ym_visorc_31713861=b; _ym_visorc_238735=w; yandex_plus_metrika_cookie=true; spravka=dD0xNTg5Mzk5NzcyO2k9MzcuMjIwLjE1Mi44Mjt1PTE1ODkzOTk3NzI5NDkxNDMxMzM7aD00MjZlMDNlMjJiZjUxM2ExYzhkZWVkYjljNTg5Y2EwYw==; _ym_d=1589399777; cycada=RQJaohiBtOiyVUR7yVnJ7Tnf9S74fLHUbfWNvZMHpJo='\n",
    "    })\n",
    "    r = s.get(url)\n",
    "    proxies = {\n",
    "        \"https\":\"https://82.119.170.106:8080\",\n",
    "        \"http\":\"http://82.119.170.106:8080\"\n",
    "    }\n",
    "    film = BeautifulSoup(r.text, 'lxml')\n",
    "    result['name'] = film.find(class_='moviename-title-wrapper').text\n",
    "    \n",
    "    with open('films/' + result['name'].replace(' ', '_') + '.html', 'w') as output_file:\n",
    "        output_file.write(r.text)\n",
    "        \n",
    "    result['rating'] = film.find(class_='rating_ball').text\n",
    "    result['views'] = film.find(class_='ratingCount').text\n",
    "    \n",
    "    table = film.find('table', class_='info')\n",
    "    for tr in table.find_all('tr'):\n",
    "        td1, td2 = tr.find_all('td')\n",
    "        if td1.text in ['год', 'страна', 'режиссер']:\n",
    "            result[td1.text] = td2.find('a').text\n",
    "        if td1.text == 'время':\n",
    "            result[td1.text] = td2.text\n",
    "#     time.sleep(1)\n",
    "    return result"
   ]
  },
  {
   "cell_type": "code",
   "execution_count": 3,
   "metadata": {
    "scrolled": false
   },
   "outputs": [
    {
     "data": {
      "text/plain": [
       "{'name': 'Дилижанс',\n",
       " 'rating': '7.524',\n",
       " 'views': '3452',\n",
       " 'время': '96 мин. / 01:36',\n",
       " 'год': '1939',\n",
       " 'режиссер': 'Джон Форд',\n",
       " 'страна': 'США'}"
      ]
     },
     "execution_count": 3,
     "metadata": {},
     "output_type": "execute_result"
    }
   ],
   "source": [
    "get_film_info('https://www.kinopoisk.ru/film/524/')\n"
   ]
  },
  {
   "cell_type": "code",
   "execution_count": 4,
   "metadata": {},
   "outputs": [],
   "source": [
    "def get_film_links():\n",
    "    start_url = 'https://www.kinopoisk.ru/lists/top250/?page={}&tab=all'\n",
    "    result = []\n",
    "    s = requests.Session() \n",
    "    s.headers.update({\n",
    "        'User-Agent': 'Mozilla/5.0 (Macintosh; Intel Mac OS X 10.9; rv:45.0) Gecko/20100101 Firefox/45.0'\n",
    "    })\n",
    "    for i in range(1,10):\n",
    "        r = s.get(start_url.format(i))\n",
    "        page = BeautifulSoup(r.text, 'lxml')\n",
    "        films = page.find_all(class_='selection-film-item-meta selection-film-item-meta_theme_desktop')\n",
    "        for film in films:\n",
    "            result.append('https://www.kinopoisk.ru' + film.find('a').get('href'))\n",
    "    return result"
   ]
  },
  {
   "cell_type": "code",
   "execution_count": 5,
   "metadata": {},
   "outputs": [],
   "source": [
    "links = get_film_links()"
   ]
  },
  {
   "cell_type": "code",
   "execution_count": 6,
   "metadata": {
    "scrolled": false
   },
   "outputs": [
    {
     "data": {
      "text/plain": [
       "220"
      ]
     },
     "execution_count": 6,
     "metadata": {},
     "output_type": "execute_result"
    }
   ],
   "source": [
    "len(links)\n",
    "# with open('kinopoisk_links.txt', 'w') as file:\n",
    "#     for link in links:\n",
    "#         file.write(link + '\\n')"
   ]
  },
  {
   "cell_type": "code",
   "execution_count": 9,
   "metadata": {},
   "outputs": [],
   "source": [
    "data = []"
   ]
  },
  {
   "cell_type": "code",
   "execution_count": 58,
   "metadata": {},
   "outputs": [
    {
     "ename": "IndexError",
     "evalue": "list index out of range",
     "output_type": "error",
     "traceback": [
      "\u001b[0;31m---------------------------------------------------------------------------\u001b[0m",
      "\u001b[0;31mIndexError\u001b[0m                                Traceback (most recent call last)",
      "\u001b[0;32m<ipython-input-58-44be3682c1a2>\u001b[0m in \u001b[0;36m<module>\u001b[0;34m()\u001b[0m\n\u001b[1;32m      1\u001b[0m \u001b[0;32mfor\u001b[0m \u001b[0mi\u001b[0m \u001b[0;32min\u001b[0m \u001b[0mrange\u001b[0m\u001b[0;34m(\u001b[0m\u001b[0;36m213\u001b[0m\u001b[0;34m,\u001b[0m \u001b[0;36m221\u001b[0m\u001b[0;34m)\u001b[0m\u001b[0;34m:\u001b[0m\u001b[0;34m\u001b[0m\u001b[0;34m\u001b[0m\u001b[0m\n\u001b[0;32m----> 2\u001b[0;31m     \u001b[0mdata\u001b[0m\u001b[0;34m.\u001b[0m\u001b[0mappend\u001b[0m\u001b[0;34m(\u001b[0m\u001b[0mget_film_info\u001b[0m\u001b[0;34m(\u001b[0m\u001b[0mlinks\u001b[0m\u001b[0;34m[\u001b[0m\u001b[0mi\u001b[0m\u001b[0;34m]\u001b[0m\u001b[0;34m)\u001b[0m\u001b[0;34m)\u001b[0m\u001b[0;34m\u001b[0m\u001b[0;34m\u001b[0m\u001b[0m\n\u001b[0m",
      "\u001b[0;31mIndexError\u001b[0m: list index out of range"
     ]
    }
   ],
   "source": [
    "for i in range(221):\n",
    "    data.append(get_film_info(links[i]))"
   ]
  },
  {
   "cell_type": "code",
   "execution_count": 68,
   "metadata": {},
   "outputs": [
    {
     "data": {
      "text/plain": [
       "219"
      ]
     },
     "execution_count": 68,
     "metadata": {},
     "output_type": "execute_result"
    }
   ],
   "source": [
    "len(data)"
   ]
  },
  {
   "cell_type": "code",
   "execution_count": 61,
   "metadata": {},
   "outputs": [],
   "source": [
    "import pandas as pd"
   ]
  },
  {
   "cell_type": "code",
   "execution_count": 64,
   "metadata": {},
   "outputs": [
    {
     "data": {
      "text/html": [
       "<div>\n",
       "<style scoped>\n",
       "    .dataframe tbody tr th:only-of-type {\n",
       "        vertical-align: middle;\n",
       "    }\n",
       "\n",
       "    .dataframe tbody tr th {\n",
       "        vertical-align: top;\n",
       "    }\n",
       "\n",
       "    .dataframe thead th {\n",
       "        text-align: right;\n",
       "    }\n",
       "</style>\n",
       "<table border=\"1\" class=\"dataframe\">\n",
       "  <thead>\n",
       "    <tr style=\"text-align: right;\">\n",
       "      <th></th>\n",
       "      <th>name</th>\n",
       "      <th>rating</th>\n",
       "      <th>views</th>\n",
       "      <th>время</th>\n",
       "      <th>год</th>\n",
       "      <th>режиссер</th>\n",
       "      <th>страна</th>\n",
       "    </tr>\n",
       "  </thead>\n",
       "  <tbody>\n",
       "    <tr>\n",
       "      <th>0</th>\n",
       "      <td>Побег из Шоушенка</td>\n",
       "      <td>9.111</td>\n",
       "      <td>693 385</td>\n",
       "      <td>142 мин. / 02:22</td>\n",
       "      <td>1994</td>\n",
       "      <td>Фрэнк Дарабонт</td>\n",
       "      <td>США</td>\n",
       "    </tr>\n",
       "    <tr>\n",
       "      <th>1</th>\n",
       "      <td>Зеленая миля</td>\n",
       "      <td>9.062</td>\n",
       "      <td>594 470</td>\n",
       "      <td>189 мин. / 03:09</td>\n",
       "      <td>1999</td>\n",
       "      <td>Фрэнк Дарабонт</td>\n",
       "      <td>США</td>\n",
       "    </tr>\n",
       "    <tr>\n",
       "      <th>2</th>\n",
       "      <td>Форрест Гамп</td>\n",
       "      <td>8.913</td>\n",
       "      <td>561 423</td>\n",
       "      <td>142 мин. / 02:22</td>\n",
       "      <td>1994</td>\n",
       "      <td>Роберт Земекис</td>\n",
       "      <td>США</td>\n",
       "    </tr>\n",
       "    <tr>\n",
       "      <th>3</th>\n",
       "      <td>Список Шиндлера</td>\n",
       "      <td>8.818</td>\n",
       "      <td>323 887</td>\n",
       "      <td>195 мин. / 03:15</td>\n",
       "      <td>1993</td>\n",
       "      <td>Стивен Спилберг</td>\n",
       "      <td>США</td>\n",
       "    </tr>\n",
       "    <tr>\n",
       "      <th>4</th>\n",
       "      <td>1+1</td>\n",
       "      <td>8.807</td>\n",
       "      <td>1 006 352</td>\n",
       "      <td>112 мин. / 01:52</td>\n",
       "      <td>2011</td>\n",
       "      <td>Оливье Накаш</td>\n",
       "      <td>Франция</td>\n",
       "    </tr>\n",
       "  </tbody>\n",
       "</table>\n",
       "</div>"
      ],
      "text/plain": [
       "                name rating      views             время   год  \\\n",
       "0  Побег из Шоушенка  9.111    693 385  142 мин. / 02:22  1994   \n",
       "1       Зеленая миля  9.062    594 470  189 мин. / 03:09  1999   \n",
       "2       Форрест Гамп  8.913    561 423  142 мин. / 02:22  1994   \n",
       "3    Список Шиндлера  8.818    323 887  195 мин. / 03:15  1993   \n",
       "4                1+1  8.807  1 006 352  112 мин. / 01:52  2011   \n",
       "\n",
       "          режиссер   страна  \n",
       "0   Фрэнк Дарабонт      США  \n",
       "1   Фрэнк Дарабонт      США  \n",
       "2   Роберт Земекис      США  \n",
       "3  Стивен Спилберг      США  \n",
       "4     Оливье Накаш  Франция  "
      ]
     },
     "execution_count": 64,
     "metadata": {},
     "output_type": "execute_result"
    }
   ],
   "source": [
    "table = pd.DataFrame(data)\n",
    "table.head()"
   ]
  },
  {
   "cell_type": "code",
   "execution_count": 67,
   "metadata": {
    "scrolled": false
   },
   "outputs": [],
   "source": [
    "table.to_csv('data.csv', index=False)"
   ]
  },
  {
   "cell_type": "code",
   "execution_count": null,
   "metadata": {},
   "outputs": [],
   "source": []
  }
 ],
 "metadata": {
  "kernelspec": {
   "display_name": "Python 3",
   "language": "python",
   "name": "python3"
  },
  "language_info": {
   "codemirror_mode": {
    "name": "ipython",
    "version": 3
   },
   "file_extension": ".py",
   "mimetype": "text/x-python",
   "name": "python",
   "nbconvert_exporter": "python",
   "pygments_lexer": "ipython3",
   "version": "3.6.9"
  }
 },
 "nbformat": 4,
 "nbformat_minor": 2
}
